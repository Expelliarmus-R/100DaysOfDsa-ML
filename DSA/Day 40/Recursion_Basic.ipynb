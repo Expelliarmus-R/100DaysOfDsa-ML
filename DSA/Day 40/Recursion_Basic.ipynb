{
 "cells": [
  {
   "metadata": {},
   "cell_type": "markdown",
   "source": "Basic Recursion",
   "id": "dcd91486d91018b8"
  },
  {
   "cell_type": "code",
   "id": "initial_id",
   "metadata": {
    "collapsed": true,
    "ExecuteTime": {
     "end_time": "2025-10-23T18:20:07.354435Z",
     "start_time": "2025-10-23T18:20:07.342092Z"
    }
   },
   "source": [
    "def fun(i,n):\n",
    "    if i>n:\n",
    "        return\n",
    "    print(\"Rakesh\")\n",
    "    fun(i+1,n)\n",
    "print(fun(1,5))"
   ],
   "outputs": [
    {
     "name": "stdout",
     "output_type": "stream",
     "text": [
      "Rakesh\n",
      "Rakesh\n",
      "Rakesh\n",
      "Rakesh\n",
      "Rakesh\n",
      "None\n"
     ]
    }
   ],
   "execution_count": 15
  },
  {
   "metadata": {
    "ExecuteTime": {
     "end_time": "2025-10-23T18:19:50.181972Z",
     "start_time": "2025-10-23T18:19:50.169952Z"
    }
   },
   "cell_type": "code",
   "source": [
    "def fun(i,n):\n",
    "    if i>n:\n",
    "        return\n",
    "    print(i)\n",
    "    i+=1\n",
    "    fun(i,n)\n",
    "print(fun(1,10))"
   ],
   "id": "9d01385c684b2eab",
   "outputs": [
    {
     "name": "stdout",
     "output_type": "stream",
     "text": [
      "1\n",
      "2\n",
      "3\n",
      "4\n",
      "5\n",
      "6\n",
      "7\n",
      "8\n",
      "9\n",
      "10\n",
      "None\n"
     ]
    }
   ],
   "execution_count": 14
  },
  {
   "metadata": {
    "ExecuteTime": {
     "end_time": "2025-10-23T18:19:26.859790Z",
     "start_time": "2025-10-23T18:19:26.845732Z"
    }
   },
   "cell_type": "code",
   "source": [
    "def fun(i,n):\n",
    "    if n<i:\n",
    "        return\n",
    "    print(n)\n",
    "    fun(i,n-1)\n",
    "print(fun(1,5))"
   ],
   "id": "377e6393da33a861",
   "outputs": [
    {
     "name": "stdout",
     "output_type": "stream",
     "text": [
      "5\n",
      "4\n",
      "3\n",
      "2\n",
      "1\n",
      "None\n"
     ]
    }
   ],
   "execution_count": 10
  },
  {
   "metadata": {},
   "cell_type": "markdown",
   "source": "Basic Backtracking",
   "id": "a65c36c0f025dabe"
  },
  {
   "metadata": {
    "ExecuteTime": {
     "end_time": "2025-10-23T18:34:33.345627Z",
     "start_time": "2025-10-23T18:34:33.310843Z"
    }
   },
   "cell_type": "code",
   "source": [
    "def func(i):\n",
    "    if i<1:\n",
    "        return\n",
    "    func(i-1)\n",
    "    print(i)\n",
    "print(func(4))"
   ],
   "id": "283c5628ea1ab32b",
   "outputs": [
    {
     "name": "stdout",
     "output_type": "stream",
     "text": [
      "1\n",
      "2\n",
      "3\n",
      "4\n",
      "None\n"
     ]
    }
   ],
   "execution_count": 16
  },
  {
   "metadata": {
    "ExecuteTime": {
     "end_time": "2025-10-24T09:05:57.813160Z",
     "start_time": "2025-10-24T09:05:57.735950Z"
    }
   },
   "cell_type": "code",
   "source": [
    "def func(i):\n",
    "    if i>5:\n",
    "        return\n",
    "    func(i+1)\n",
    "    print(i)\n",
    "print(func(1))"
   ],
   "id": "197c661a1cdaec2",
   "outputs": [
    {
     "name": "stdout",
     "output_type": "stream",
     "text": [
      "5\n",
      "4\n",
      "3\n",
      "2\n",
      "1\n",
      "None\n",
      "ERROR! Session/line number was not unique in database. History logging moved to new session 122\n"
     ]
    }
   ],
   "execution_count": 9
  },
  {
   "metadata": {
    "ExecuteTime": {
     "end_time": "2025-10-24T10:33:14.805894Z",
     "start_time": "2025-10-24T10:33:14.793341Z"
    }
   },
   "cell_type": "code",
   "source": [
    "a=[1,2,3,2,1]\n",
    "n=len(a)\n",
    "original=a.copy()\n",
    "def func(left,right) :\n",
    "    if left>=right:\n",
    "        return\n",
    "    a[left],a[right]=a[right],a[left]\n",
    "    func(left+1,right-1)\n",
    "    return a\n",
    "rev=func(0,n-1)\n",
    "if rev==original:\n",
    "    print(\"True\")\n",
    "else:\n",
    "    print(\"False\")\n",
    "\n"
   ],
   "id": "47e6bfc2d5f686e",
   "outputs": [
    {
     "name": "stdout",
     "output_type": "stream",
     "text": [
      "True\n"
     ]
    }
   ],
   "execution_count": 49
  },
  {
   "metadata": {},
   "cell_type": "markdown",
   "source": "check if string is palindrome",
   "id": "2c42d8d515e94a1e"
  },
  {
   "metadata": {
    "ExecuteTime": {
     "end_time": "2025-10-24T11:00:21.582730Z",
     "start_time": "2025-10-24T11:00:21.571051Z"
    }
   },
   "cell_type": "code",
   "source": [
    "def rev(s):\n",
    "    l=list(s)\n",
    "    n=len(l)\n",
    "    left=0\n",
    "    right=n-1\n",
    "    while left<=right:\n",
    "        l[left],l[right]=l[right],l[left]\n",
    "        left+=1\n",
    "        right-=1\n",
    "    return \"\".join(l)\n",
    "s=\"mADAM\"\n",
    "print(rev(s))"
   ],
   "id": "890418fa6c87a7bc",
   "outputs": [
    {
     "name": "stdout",
     "output_type": "stream",
     "text": [
      "MADAm\n"
     ]
    }
   ],
   "execution_count": 64
  },
  {
   "metadata": {
    "ExecuteTime": {
     "end_time": "2025-10-24T11:46:43.412932Z",
     "start_time": "2025-10-24T11:46:43.406304Z"
    }
   },
   "cell_type": "code",
   "source": [
    "def palindrome(s,i=0):\n",
    "    n=len(s)\n",
    "    if i>=n//2:\n",
    "        return True\n",
    "    if s[i]!=s[n-i-1]:\n",
    "        return False\n",
    "    return palindrome(s,i+1)\n",
    "s=\"madam\"\n",
    "result=palindrome(s)\n",
    "print(result)"
   ],
   "id": "3f5ace7e306c55a",
   "outputs": [
    {
     "name": "stdout",
     "output_type": "stream",
     "text": [
      "True\n"
     ]
    }
   ],
   "execution_count": 87
  },
  {
   "metadata": {
    "ExecuteTime": {
     "end_time": "2025-10-24T10:32:45.715926Z",
     "start_time": "2025-10-24T10:32:45.706141Z"
    }
   },
   "cell_type": "code",
   "source": ",",
   "id": "40429298eee0aadc",
   "outputs": [],
   "execution_count": null
  },
  {
   "metadata": {
    "ExecuteTime": {
     "end_time": "2025-10-24T10:32:45.883209Z",
     "start_time": "2025-10-24T10:32:45.875040Z"
    }
   },
   "cell_type": "code",
   "source": "",
   "id": "1f6663985a913f01",
   "outputs": [],
   "execution_count": null
  },
  {
   "metadata": {
    "ExecuteTime": {
     "end_time": "2025-10-24T10:32:45.958259Z",
     "start_time": "2025-10-24T10:32:45.944087Z"
    }
   },
   "cell_type": "code",
   "source": "",
   "id": "e1dc73dacd37700c",
   "outputs": [],
   "execution_count": null
  },
  {
   "metadata": {
    "ExecuteTime": {
     "end_time": "2025-10-24T10:32:46.001593Z",
     "start_time": "2025-10-24T10:32:45.989563Z"
    }
   },
   "cell_type": "code",
   "source": "",
   "id": "9b96bd733a5cf588",
   "outputs": [],
   "execution_count": null
  },
  {
   "metadata": {},
   "cell_type": "code",
   "outputs": [],
   "execution_count": null,
   "source": "",
   "id": "771ddae390d55b3d"
  }
 ],
 "metadata": {
  "kernelspec": {
   "display_name": "Python 3",
   "language": "python",
   "name": "python3"
  },
  "language_info": {
   "codemirror_mode": {
    "name": "ipython",
    "version": 2
   },
   "file_extension": ".py",
   "mimetype": "text/x-python",
   "name": "python",
   "nbconvert_exporter": "python",
   "pygments_lexer": "ipython2",
   "version": "2.7.6"
  }
 },
 "nbformat": 4,
 "nbformat_minor": 5
}
