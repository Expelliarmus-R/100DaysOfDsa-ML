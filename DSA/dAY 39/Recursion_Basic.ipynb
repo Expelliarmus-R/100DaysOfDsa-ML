{
 "cells": [
  {
   "metadata": {},
   "cell_type": "markdown",
   "source": "Basic Recursion",
   "id": "dcd91486d91018b8"
  },
  {
   "cell_type": "code",
   "id": "initial_id",
   "metadata": {
    "collapsed": true,
    "ExecuteTime": {
     "end_time": "2025-10-23T18:20:07.354435Z",
     "start_time": "2025-10-23T18:20:07.342092Z"
    }
   },
   "source": [
    "def fun(i,n):\n",
    "    if i>n:\n",
    "        return\n",
    "    print(\"Rakesh\")\n",
    "    fun(i+1,n)\n",
    "print(fun(1,5))"
   ],
   "outputs": [
    {
     "name": "stdout",
     "output_type": "stream",
     "text": [
      "Rakesh\n",
      "Rakesh\n",
      "Rakesh\n",
      "Rakesh\n",
      "Rakesh\n",
      "None\n"
     ]
    }
   ],
   "execution_count": 15
  },
  {
   "metadata": {
    "ExecuteTime": {
     "end_time": "2025-10-23T18:19:50.181972Z",
     "start_time": "2025-10-23T18:19:50.169952Z"
    }
   },
   "cell_type": "code",
   "source": [
    "def fun(i,n):\n",
    "    if i>n:\n",
    "        return\n",
    "    print(i)\n",
    "    i+=1\n",
    "    fun(i,n)\n",
    "print(fun(1,10))"
   ],
   "id": "9d01385c684b2eab",
   "outputs": [
    {
     "name": "stdout",
     "output_type": "stream",
     "text": [
      "1\n",
      "2\n",
      "3\n",
      "4\n",
      "5\n",
      "6\n",
      "7\n",
      "8\n",
      "9\n",
      "10\n",
      "None\n"
     ]
    }
   ],
   "execution_count": 14
  },
  {
   "metadata": {
    "ExecuteTime": {
     "end_time": "2025-10-23T18:19:26.859790Z",
     "start_time": "2025-10-23T18:19:26.845732Z"
    }
   },
   "cell_type": "code",
   "source": [
    "def fun(i,n):\n",
    "    if n<i:\n",
    "        return\n",
    "    print(n)\n",
    "    fun(i,n-1)\n",
    "print(fun(1,5))"
   ],
   "id": "377e6393da33a861",
   "outputs": [
    {
     "name": "stdout",
     "output_type": "stream",
     "text": [
      "5\n",
      "4\n",
      "3\n",
      "2\n",
      "1\n",
      "None\n"
     ]
    }
   ],
   "execution_count": 10
  },
  {
   "metadata": {},
   "cell_type": "markdown",
   "source": "Basic Backtracking",
   "id": "a65c36c0f025dabe"
  },
  {
   "metadata": {
    "ExecuteTime": {
     "end_time": "2025-10-23T18:34:33.345627Z",
     "start_time": "2025-10-23T18:34:33.310843Z"
    }
   },
   "cell_type": "code",
   "source": [
    "def func(i):\n",
    "    if i<1:\n",
    "        return\n",
    "    func(i-1)\n",
    "    print(i)\n",
    "print(func(4))"
   ],
   "id": "283c5628ea1ab32b",
   "outputs": [
    {
     "name": "stdout",
     "output_type": "stream",
     "text": [
      "1\n",
      "2\n",
      "3\n",
      "4\n",
      "None\n"
     ]
    }
   ],
   "execution_count": 16
  },
  {
   "metadata": {},
   "cell_type": "code",
   "outputs": [],
   "execution_count": null,
   "source": "",
   "id": "197c661a1cdaec2"
  },
  {
   "metadata": {},
   "cell_type": "code",
   "outputs": [],
   "execution_count": null,
   "source": "",
   "id": "47e6bfc2d5f686e"
  },
  {
   "metadata": {},
   "cell_type": "code",
   "outputs": [],
   "execution_count": null,
   "source": "",
   "id": "890418fa6c87a7bc"
  },
  {
   "metadata": {},
   "cell_type": "code",
   "outputs": [],
   "execution_count": null,
   "source": "",
   "id": "3f5ace7e306c55a"
  },
  {
   "metadata": {},
   "cell_type": "code",
   "outputs": [],
   "execution_count": null,
   "source": "",
   "id": "40429298eee0aadc"
  },
  {
   "metadata": {},
   "cell_type": "code",
   "outputs": [],
   "execution_count": null,
   "source": "",
   "id": "1f6663985a913f01"
  }
 ],
 "metadata": {
  "kernelspec": {
   "display_name": "Python 3",
   "language": "python",
   "name": "python3"
  },
  "language_info": {
   "codemirror_mode": {
    "name": "ipython",
    "version": 2
   },
   "file_extension": ".py",
   "mimetype": "text/x-python",
   "name": "python",
   "nbconvert_exporter": "python",
   "pygments_lexer": "ipython2",
   "version": "2.7.6"
  }
 },
 "nbformat": 4,
 "nbformat_minor": 5
}
